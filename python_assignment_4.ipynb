{
 "cells": [
  {
   "cell_type": "code",
   "execution_count": 93,
   "metadata": {},
   "outputs": [
    {
     "name": "stdout",
     "output_type": "stream",
     "text": [
      "area of triangle of side a,b,c is : 18.974\n"
     ]
    }
   ],
   "source": [
    "#1.1 Write a Python Program to find the area of the triangle using the below  formula\n",
    "#area = (s*(s-a)*(s-b)*(s-c)) ** 0.5\n",
    "a=7\n",
    "b=6\n",
    "c=7\n",
    "s=(a+b+c)/2\n",
    "area = (s*(s-a)*(s-b)*(s-c)) ** 0.5\n",
    "print(f'area of triangle of side a,b,c is :',round(area,3))"
   ]
  },
  {
   "cell_type": "code",
   "execution_count": 94,
   "metadata": {},
   "outputs": [
    {
     "name": "stdout",
     "output_type": "stream",
     "text": [
      "sanket\n",
      "sankalp\n",
      "sathone\n",
      "dreetisath\n",
      "class\n"
     ]
    }
   ],
   "source": [
    "#1.2 Write a function filter_long_words() that takes a list of words and an integer n and returns\n",
    "#the list of words that are longer than n.\n",
    "list1=['sanket','sankalp','sathone','gmr','ml','dreetisath','class']\n",
    "def filter_long_words(a):\n",
    "    int1=3\n",
    "    for i in list1:\n",
    "        if len(i)>int1:\n",
    "            print(i)\n",
    "filter_long_words(list1)"
   ]
  },
  {
   "cell_type": "code",
   "execution_count": 95,
   "metadata": {},
   "outputs": [
    {
     "name": "stdout",
     "output_type": "stream",
     "text": [
      "2\n",
      "3\n",
      "4\n",
      "6\n",
      "6\n"
     ]
    }
   ],
   "source": [
    "#2.1 Write a Python program using function concept that maps list of words into a list of integers\n",
    "#representing the lengths of the corresponding words.\n",
    "#Hint: If a list [ ab,cde,erty] is passed on to the python function output should come as [2,3,4]\n",
    "#Here 2,3 and 4 are the lengths of the words in the list.\n",
    "list1 =['ab','cde','erty','sanket','mylist']\n",
    "def word_into_list(a):\n",
    "    for i in list1:\n",
    "        print(len(i))\n",
    "word_into_list(list1)\n"
   ]
  },
  {
   "cell_type": "code",
   "execution_count": 96,
   "metadata": {},
   "outputs": [
    {
     "data": {
      "text/plain": [
       "False"
      ]
     },
     "execution_count": 96,
     "metadata": {},
     "output_type": "execute_result"
    }
   ],
   "source": [
    "#Write a Python function which takes a character (i.e. a string of length 1) and returns True if\n",
    "#it is a vowel, False otherwise.\n",
    "char='a'\n",
    "char1='b'\n",
    "def check_vowel(a):\n",
    "    vowel = ['a','e','i','o','u']\n",
    "    return a in vowel\n",
    "\n",
    "check_vowel(char1)"
   ]
  },
  {
   "cell_type": "code",
   "execution_count": 97,
   "metadata": {},
   "outputs": [
    {
     "data": {
      "text/plain": [
       "True"
      ]
     },
     "execution_count": 97,
     "metadata": {},
     "output_type": "execute_result"
    }
   ],
   "source": [
    "check_vowel(char)"
   ]
  },
  {
   "cell_type": "code",
   "execution_count": null,
   "metadata": {},
   "outputs": [],
   "source": []
  },
  {
   "cell_type": "code",
   "execution_count": null,
   "metadata": {},
   "outputs": [],
   "source": []
  }
 ],
 "metadata": {
  "kernelspec": {
   "display_name": "Python 3",
   "language": "python",
   "name": "python3"
  },
  "language_info": {
   "codemirror_mode": {
    "name": "ipython",
    "version": 3
   },
   "file_extension": ".py",
   "mimetype": "text/x-python",
   "name": "python",
   "nbconvert_exporter": "python",
   "pygments_lexer": "ipython3",
   "version": "3.7.6"
  }
 },
 "nbformat": 4,
 "nbformat_minor": 4
}
